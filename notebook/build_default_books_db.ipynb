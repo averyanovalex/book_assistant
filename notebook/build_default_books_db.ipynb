{
 "cells": [
  {
   "cell_type": "code",
   "execution_count": 1,
   "metadata": {},
   "outputs": [
    {
     "data": {
      "text/plain": [
       "'Current ip location: NL'"
      ]
     },
     "execution_count": 1,
     "metadata": {},
     "output_type": "execute_result"
    }
   ],
   "source": [
    "from pprint import pprint\n",
    "import sys\n",
    "sys.path.insert(0, '../src/.')\n",
    "from utils import check_not_russian_ip\n",
    "\n",
    "check_not_russian_ip(True)"
   ]
  },
  {
   "cell_type": "code",
   "execution_count": 2,
   "metadata": {},
   "outputs": [
    {
     "data": {
      "text/plain": [
       "True"
      ]
     },
     "execution_count": 2,
     "metadata": {},
     "output_type": "execute_result"
    }
   ],
   "source": [
    "from dotenv import load_dotenv\n",
    "import os\n",
    "from pprint import pprint\n",
    "\n",
    "\n",
    "load_dotenv('../.env')"
   ]
  },
  {
   "cell_type": "code",
   "execution_count": 3,
   "metadata": {},
   "outputs": [],
   "source": [
    "from utils import get_openai_embedding_model\n",
    "\n",
    "\n",
    "embeddings = get_openai_embedding_model()"
   ]
  },
  {
   "cell_type": "code",
   "execution_count": 7,
   "metadata": {},
   "outputs": [],
   "source": [
    "from langchain_community.document_loaders import TextLoader, PyPDFLoader\n",
    "from langchain.text_splitter import CharacterTextSplitter\n",
    "from langchain.vectorstores import FAISS\n",
    "\n",
    "\n",
    "files_path = '../pre_installed/books_files'\n",
    "books_dir = '../pre_installed/books_dir'\n",
    "\n",
    "def load_book(book_file, book_name, embeddings):\n",
    "    input_file = os.path.join(files_path, book_file)\n",
    "    target_dir = os.path.join(books_dir, book_name)\n",
    "\n",
    "    print(f'* input_file: {input_file}')\n",
    "    print(f'* target_dir: {target_dir}')\n",
    "\n",
    "    os.makedirs(target_dir)\n",
    "    os.system(f'cp \"{input_file}\" {target_dir}/')\n",
    "\n",
    "    # Определяем расширение файла\n",
    "    file_extension = input_file.split('.')[-1].lower()\n",
    "\n",
    "    # Выбираем загрузчик в зависимости от расширения\n",
    "    if file_extension == 'txt':\n",
    "        loader = TextLoader(input_file)\n",
    "    elif file_extension == 'pdf':\n",
    "        loader = PyPDFLoader(input_file)\n",
    "    else:\n",
    "        raise ValueError(f\"Неподдерживаемый формат файла: {file_extension}\")\n",
    "    docs = loader.load()\n",
    "\n",
    "    splitter = CharacterTextSplitter(chunk_size=1000, chunk_overlap=100)\n",
    "\n",
    "    if file_extension == 'pdf':\n",
    "        splited_doc = []\n",
    "        for page in docs:\n",
    "            splited_doc += splitter.create_documents([page.page_content], metadatas=[page.metadata])\n",
    "    else:\n",
    "        splited_doc = splitter.create_documents([docs[0].page_content])\n",
    "\n",
    "    db = FAISS.from_documents(splited_doc, embeddings)  \n",
    "    db.save_local(f\"{target_dir}/faiss_db\")\n",
    "\n",
    "    print(f'* db saved to {target_dir}/faiss_db')\n",
    "\n",
    "\n"
   ]
  },
  {
   "cell_type": "code",
   "execution_count": null,
   "metadata": {},
   "outputs": [],
   "source": [
    "load_book('The Captains Daughter.txt', 'The_captains_daughter', embeddings)"
   ]
  },
  {
   "cell_type": "code",
   "execution_count": 10,
   "metadata": {},
   "outputs": [
    {
     "name": "stdout",
     "output_type": "stream",
     "text": [
      "* input_file: ../pre_installed/books_files/George Orwell _1984.pdf\n",
      "* target_dir: ../pre_installed/books_dir/George_Orwell_1984\n",
      "* db saved to ../pre_installed/books_dir/George_Orwell_1984/faiss_db\n"
     ]
    }
   ],
   "source": [
    "load_book('George Orwell _1984.pdf', 'George_Orwell_1984', embeddings)"
   ]
  },
  {
   "cell_type": "code",
   "execution_count": 5,
   "metadata": {},
   "outputs": [
    {
     "name": "stdout",
     "output_type": "stream",
     "text": [
      "* input_file: ../pre_installed/books_files/martin-eden-by-jack-london.pdf\n",
      "* target_dir: ../pre_installed/books_dir/Martin_Eden\n",
      "* db saved to ../pre_installed/books_dir/Martin_Eden/faiss_db\n"
     ]
    }
   ],
   "source": [
    "load_book('martin-eden-by-jack-london.pdf', 'Martin_Eden', embeddings)"
   ]
  },
  {
   "cell_type": "code",
   "execution_count": null,
   "metadata": {},
   "outputs": [],
   "source": []
  }
 ],
 "metadata": {
  "kernelspec": {
   "display_name": "Python 3",
   "language": "python",
   "name": "python3"
  },
  "language_info": {
   "codemirror_mode": {
    "name": "ipython",
    "version": 3
   },
   "file_extension": ".py",
   "mimetype": "text/x-python",
   "name": "python",
   "nbconvert_exporter": "python",
   "pygments_lexer": "ipython3",
   "version": "3.12.8"
  }
 },
 "nbformat": 4,
 "nbformat_minor": 2
}
