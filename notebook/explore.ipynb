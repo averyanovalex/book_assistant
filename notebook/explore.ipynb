{
 "cells": [
  {
   "cell_type": "code",
   "execution_count": 1,
   "metadata": {},
   "outputs": [
    {
     "data": {
      "text/plain": [
       "'Current ip location: NL'"
      ]
     },
     "execution_count": 1,
     "metadata": {},
     "output_type": "execute_result"
    }
   ],
   "source": [
    "from pprint import pprint\n",
    "import sys\n",
    "sys.path.insert(0, '../')\n",
    "from utils import check_not_russian_ip\n",
    "\n",
    "check_not_russian_ip(True)"
   ]
  },
  {
   "cell_type": "code",
   "execution_count": 1,
   "metadata": {},
   "outputs": [
    {
     "data": {
      "text/plain": [
       "True"
      ]
     },
     "execution_count": 1,
     "metadata": {},
     "output_type": "execute_result"
    }
   ],
   "source": [
    "from dotenv import load_dotenv\n",
    "import os\n",
    "from pprint import pprint\n",
    "\n",
    "\n",
    "load_dotenv('../.env')"
   ]
  },
  {
   "cell_type": "code",
   "execution_count": 2,
   "metadata": {},
   "outputs": [
    {
     "name": "stdout",
     "output_type": "stream",
     "text": [
      "Первый раз человек полетел в космос 12 апреля 1961 года. Это сделал Юрий Гагарин на корабле \"Восток-1\".\n"
     ]
    },
    {
     "name": "stderr",
     "output_type": "stream",
     "text": [
      "/Users/avalexey/code/pets/book_assistant/notebook/../utils.py:71: LangChainDeprecationWarning: The class `OpenAIEmbeddings` was deprecated in LangChain 0.0.9 and will be removed in 1.0. An updated version of the class exists in the :class:`~langchain-openai package and should be used instead. To use it run `pip install -U :class:`~langchain-openai` and import as `from :class:`~langchain_openai import OpenAIEmbeddings``.\n",
      "  return OpenAIEmbeddings(model=model)\n"
     ]
    }
   ],
   "source": [
    "from utils import get_openai_llm, get_openai_embedding_model\n",
    "\n",
    "\n",
    "openai_llm = get_openai_llm(run_test_question=True)\n",
    "embeddings = get_openai_embedding_model()"
   ]
  },
  {
   "cell_type": "markdown",
   "metadata": {},
   "source": [
    "## Загружаем, сплитуем, готовим RAG"
   ]
  },
  {
   "cell_type": "code",
   "execution_count": 3,
   "metadata": {},
   "outputs": [],
   "source": [
    "import pandas as pd\n",
    "from langchain.document_loaders import PyPDFLoader\n",
    "\n",
    "loader = PyPDFLoader('data/Machine_Learning_System_Design_v11.pdf')\n",
    "book = loader.load()"
   ]
  },
  {
   "cell_type": "code",
   "execution_count": 4,
   "metadata": {},
   "outputs": [
    {
     "name": "stdout",
     "output_type": "stream",
     "text": [
      "pages count: 360\n",
      "max chars on page: 3723\n"
     ]
    }
   ],
   "source": [
    "print('pages count:', len(book))\n",
    "print('max chars on page:', max([len(page.page_content) for page in book]))"
   ]
  },
  {
   "cell_type": "code",
   "execution_count": 5,
   "metadata": {},
   "outputs": [],
   "source": [
    "for page in book:\n",
    "    page.page_content = page.page_content.replace('Licensed to Alexey Averyanov <averyanovalexey@gmail.com>', '')"
   ]
  },
  {
   "cell_type": "code",
   "execution_count": 6,
   "metadata": {},
   "outputs": [
    {
     "data": {
      "text/plain": [
       "997"
      ]
     },
     "execution_count": 6,
     "metadata": {},
     "output_type": "execute_result"
    }
   ],
   "source": [
    "from langchain.text_splitter import (\n",
    "    CharacterTextSplitter,\n",
    "    RecursiveCharacterTextSplitter,\n",
    ")\n",
    "\n",
    "splitter = CharacterTextSplitter('\\n', chunk_size=1000, chunk_overlap=100)\n",
    "\n",
    "splited_doc = []\n",
    "for page in book:\n",
    "    splited_doc += splitter.create_documents([page.page_content], metadatas=[page.metadata])\n",
    "\n",
    "len(splited_doc)"
   ]
  },
  {
   "cell_type": "code",
   "execution_count": 7,
   "metadata": {},
   "outputs": [
    {
     "name": "stdout",
     "output_type": "stream",
     "text": [
      "984\n"
     ]
    },
    {
     "data": {
      "text/plain": [
       "'vision, while literature on ML system design is scarce. It leads to the problem we’ve been\\nwitnessing in multiple companies, where solid engineers successfully build scattered\\nsubcomponents that unfortunately can’t be combined into fully functioning reliable\\nsystems.\\n\\xa0 \\xa0 \\xa0 \\xa0 We decided to contribute to this field and set ourselves a clear goal to share our\\nknowledge and experience that we hope will help our readers convert their knowledge\\ninto a holistic system.\\n\\xa0 \\xa0 \\xa0 \\xa0 This book will not be dedicated to a particular technology but will rather represent a\\nhigh-level framework on how to approach problems related to building, maintaining, and\\nimproving big machine learning systems in various domains, regardless of the size of a\\ncompany you work for. The book’s structure will resemble that of a checklist or manual,\\nwith ingestion of stories from our own experience. It can be read at once or used at any\\nmoment while working on a specific aspect of a machine learning system.'"
      ]
     },
     "execution_count": 7,
     "metadata": {},
     "output_type": "execute_result"
    }
   ],
   "source": [
    "print(len(splited_doc[2].page_content))\n",
    "splited_doc[2].page_content"
   ]
  },
  {
   "cell_type": "code",
   "execution_count": 8,
   "metadata": {},
   "outputs": [],
   "source": [
    "from langchain.vectorstores import FAISS\n",
    "\n",
    "\n",
    "db = FAISS.from_documents(\n",
    "    splited_doc, embeddings\n",
    ")  \n",
    "db.save_local(\"data/faiss_db\") "
   ]
  },
  {
   "cell_type": "code",
   "execution_count": 9,
   "metadata": {},
   "outputs": [
    {
     "data": {
      "text/plain": [
       "[(Document(metadata={'source': 'data/Machine_Learning_System_Design_v11.pdf', 'page': 20}, page_content='What are the problem space and solution space? These are two exploration paradigms\\nthat cover different perspectives of a problem. While both are crucial, the former should\\nalways precede the latter.\\n\\xa0 \\xa0 \\xa0 \\xa0 The problem space is often defined with What and Why questions, often even with\\nchains of such questions. There is even a popular technique named “Five Whys” that\\nrecommends stacking your Why questions on top of each other to dig to the very origin\\nof the problem you analyze. Typical questions often look like this:\\n\\xa0 \\xa0 \\xa0 \\xa0 1. Why do we need to build the solution?    \\n2. What problem does it solve?    \\n3. Why does the problem occur?    \\n4. What are the alternatives we know?    \\n5. Why do we want to make it work with given limitations (metrics,\\nlatency, number of training samples)?    \\n17\\n© Manning Publications Co. To comment go to liveBook'),\n",
       "  0.23399778),\n",
       " (Document(metadata={'source': 'data/Machine_Learning_System_Design_v11.pdf', 'page': 19}, page_content='But before you start addressing these questions, there is a paramount action that will\\nlay the foundation for successful ML system design, and it’s finding and articulating the\\nproblem your solution will solve (or help solve). A seemingly trivial point, especially for\\nexperienced engineers, but based on our own practice in the area, skipping this step in\\nyour preliminary work is deceptively dangerous, and this is what we will try to cover in\\nthis chapter.\\n\\xa0 \\xa0 \\xa0 \\xa0 \\xa0 2.1 Problem space vs solution space\\n\\xa0 \\xa0 \\xa0 \\xa0 “I suppose it is tempting, if the only tool you have is a hammer, to treat everything\\nas if it were a nail.”\\n\\xa0 \\xa0 \\xa0 \\xa0 Abraham Maslow, American psychologist\\n\\xa0 \\xa0 \\xa0 \\xa0 Imagine a boss coming to an engineer with an exciting new idea of a mind-blowing\\nfeature (we’ve all been there). For the matter of visibility, let’s make the example more\\nspecific. Steve works as a machine learning engineer in a growing SaaS company.'),\n",
       "  0.26274085),\n",
       " (Document(metadata={'source': 'data/Machine_Learning_System_Design_v11.pdf', 'page': 22}, page_content='In some companies, asking these questions is a job done solely by product managers.\\nHowever, it’s not very productive for an engineer to exclude themselves from the\\nproblem space analysis, as a proper problem understanding affects the final result\\nimmensely.\\n\\xa0 \\xa0 \\xa0 \\xa0 The solution space is somewhat opposite. It’s less about the problem and customer\\nneeds, and more about the implementation. Here, we talk about frameworks and\\ninterfaces, discuss how things work under the hood, and consider technical risks.\\nHowever, it should never be done before we reach a consistent understanding of a\\nproblem.\\n\\xa0 \\xa0 \\xa0 \\xa0 Reaching a solid understanding before thinking on a technical implementation allows\\nyou to consider various workarounds, some of which may significantly reduce the project\\nscope. Maybe there is a third-party plugin for the CRM that is designed to solve exactly\\nthis problem? Maybe the cost of error for the ML part of such a problem is not really that'),\n",
       "  0.27001137),\n",
       " (Document(metadata={'source': 'data/Machine_Learning_System_Design_v11.pdf', 'page': 33}, page_content='2.5 Summary\\n\\xa0 \\xa0 \\xa0 \\xa0 The problem space always comes before the solution space. Doing\\notherwise will most probably backlash on the later stages of your ML\\nSystem Design project.    \\nWhen gathering background info from stakeholders and involved\\nemployees, make sure to start gathering wide context and going\\ndeeper when needed.    \\nWhile picking from a multitude of potential ML solutions, study their\\nlimitations and consider risks these limitations may cause.    \\nAlways evaluate potential costs of a mistake. If there is one, examine\\npotential side effects it may cause: some may lead to positive\\noutcomes.    \\n30\\n© Manning Publications Co. To comment go to liveBook'),\n",
       "  0.2710357),\n",
       " (Document(metadata={'source': 'data/Machine_Learning_System_Design_v11.pdf', 'page': 20}, page_content=\"1. What’s the best fitting method to handle classification problems of this\\nkind?    \\n2. How to integrate his Python code with the CRM used by Jack’s team?    \\nThree hours later, his browser is full of tabs with a few shot classification techniques and\\ndocumentation on CRM API. He wants to suggest a precise time estimate on project\\ndelivery to his colleagues, but he'll have a hard time doing that because of one crucial\\nmistake that may cost a lot at the early stage.\\n\\xa0 \\xa0 \\xa0 \\xa0 \\nWHILE thinking and asking questions, he focused on the solution space, not the problem space.\\n\\xa0 \\xa0 \\xa0 \\xa0 \\nTo Steve’s understanding, the information he had received was more than enough to\\ncome up with a suitable solution, while in reality, it was just the tip of the iceberg. The\\nremaining context could only be discovered by asking numerous specifying questions to\\nmultiple people involved in the project.\\n\\xa0 \\xa0 \\xa0 \\xa0 What are the problem space and solution space? These are two exploration paradigms\"),\n",
       "  0.28700334)]"
      ]
     },
     "execution_count": 9,
     "metadata": {},
     "output_type": "execute_result"
    }
   ],
   "source": [
    "db = FAISS.load_local('data/faiss_db', embeddings=embeddings, allow_dangerous_deserialization=True)\n",
    "\n",
    "rel_docs = db.similarity_search_with_score('Problem space vs solution space', k=5)\n",
    "rel_docs"
   ]
  },
  {
   "cell_type": "code",
   "execution_count": 10,
   "metadata": {},
   "outputs": [
    {
     "name": "stdout",
     "output_type": "stream",
     "text": [
      "But before you start addressing these questions, there is a paramount action that will\n",
      "lay the foundation for successful ML system design, and it’s finding and articulating the\n",
      "problem your solution will solve (or help solve). A seemingly trivial point, especially for\n",
      "experienced engineers, but based on our own practice in the area, skipping this step in\n",
      "your preliminary work is deceptively dangerous, and this is what we will try to cover in\n",
      "this chapter.\n",
      "          2.1 Problem space vs solution space\n",
      "        “I suppose it is tempting, if the only tool you have is a hammer, to treat everything\n",
      "as if it were a nail.”\n",
      "        Abraham Maslow, American psychologist\n",
      "        Imagine a boss coming to an engineer with an exciting new idea of a mind-blowing\n",
      "feature (we’ve all been there). For the matter of visibility, let’s make the example more\n",
      "specific. Steve works as a machine learning engineer in a growing SaaS company.\n"
     ]
    }
   ],
   "source": [
    "print(rel_docs[1][0].page_content)"
   ]
  },
  {
   "cell_type": "code",
   "execution_count": 11,
   "metadata": {},
   "outputs": [],
   "source": [
    "retriever = db.as_retriever(\n",
    "    search_type=\"similarity\", \n",
    "    # search_kwargs={\n",
    "    #     \"k\": 4,\n",
    "    #     \"score_threshold\": 0.6\n",
    "    # }\n",
    ")"
   ]
  },
  {
   "cell_type": "code",
   "execution_count": 12,
   "metadata": {},
   "outputs": [
    {
     "name": "stderr",
     "output_type": "stream",
     "text": [
      "/var/folders/gr/ggbx0psj5sn9zknvwkj1m9n1z1xxgm/T/ipykernel_62674/3208008454.py:1: LangChainDeprecationWarning: The method `BaseRetriever.get_relevant_documents` was deprecated in langchain-core 0.1.46 and will be removed in 1.0. Use :meth:`~invoke` instead.\n",
      "  results = retriever.get_relevant_documents(\n"
     ]
    },
    {
     "data": {
      "text/plain": [
       "[Document(metadata={'source': 'data/Machine_Learning_System_Design_v11.pdf', 'page': 19}, page_content='But before you start addressing these questions, there is a paramount action that will\\nlay the foundation for successful ML system design, and it’s finding and articulating the\\nproblem your solution will solve (or help solve). A seemingly trivial point, especially for\\nexperienced engineers, but based on our own practice in the area, skipping this step in\\nyour preliminary work is deceptively dangerous, and this is what we will try to cover in\\nthis chapter.\\n\\xa0 \\xa0 \\xa0 \\xa0 \\xa0 2.1 Problem space vs solution space\\n\\xa0 \\xa0 \\xa0 \\xa0 “I suppose it is tempting, if the only tool you have is a hammer, to treat everything\\nas if it were a nail.”\\n\\xa0 \\xa0 \\xa0 \\xa0 Abraham Maslow, American psychologist\\n\\xa0 \\xa0 \\xa0 \\xa0 Imagine a boss coming to an engineer with an exciting new idea of a mind-blowing\\nfeature (we’ve all been there). For the matter of visibility, let’s make the example more\\nspecific. Steve works as a machine learning engineer in a growing SaaS company.'),\n",
       " Document(metadata={'source': 'data/Machine_Learning_System_Design_v11.pdf', 'page': 22}, page_content='In some companies, asking these questions is a job done solely by product managers.\\nHowever, it’s not very productive for an engineer to exclude themselves from the\\nproblem space analysis, as a proper problem understanding affects the final result\\nimmensely.\\n\\xa0 \\xa0 \\xa0 \\xa0 The solution space is somewhat opposite. It’s less about the problem and customer\\nneeds, and more about the implementation. Here, we talk about frameworks and\\ninterfaces, discuss how things work under the hood, and consider technical risks.\\nHowever, it should never be done before we reach a consistent understanding of a\\nproblem.\\n\\xa0 \\xa0 \\xa0 \\xa0 Reaching a solid understanding before thinking on a technical implementation allows\\nyou to consider various workarounds, some of which may significantly reduce the project\\nscope. Maybe there is a third-party plugin for the CRM that is designed to solve exactly\\nthis problem? Maybe the cost of error for the ML part of such a problem is not really that'),\n",
       " Document(metadata={'source': 'data/Machine_Learning_System_Design_v11.pdf', 'page': 20}, page_content='What are the problem space and solution space? These are two exploration paradigms\\nthat cover different perspectives of a problem. While both are crucial, the former should\\nalways precede the latter.\\n\\xa0 \\xa0 \\xa0 \\xa0 The problem space is often defined with What and Why questions, often even with\\nchains of such questions. There is even a popular technique named “Five Whys” that\\nrecommends stacking your Why questions on top of each other to dig to the very origin\\nof the problem you analyze. Typical questions often look like this:\\n\\xa0 \\xa0 \\xa0 \\xa0 1. Why do we need to build the solution?    \\n2. What problem does it solve?    \\n3. Why does the problem occur?    \\n4. What are the alternatives we know?    \\n5. Why do we want to make it work with given limitations (metrics,\\nlatency, number of training samples)?    \\n17\\n© Manning Publications Co. To comment go to liveBook'),\n",
       " Document(metadata={'source': 'data/Machine_Learning_System_Design_v11.pdf', 'page': 33}, page_content='2.5 Summary\\n\\xa0 \\xa0 \\xa0 \\xa0 The problem space always comes before the solution space. Doing\\notherwise will most probably backlash on the later stages of your ML\\nSystem Design project.    \\nWhen gathering background info from stakeholders and involved\\nemployees, make sure to start gathering wide context and going\\ndeeper when needed.    \\nWhile picking from a multitude of potential ML solutions, study their\\nlimitations and consider risks these limitations may cause.    \\nAlways evaluate potential costs of a mistake. If there is one, examine\\npotential side effects it may cause: some may lead to positive\\noutcomes.    \\n30\\n© Manning Publications Co. To comment go to liveBook')]"
      ]
     },
     "execution_count": 12,
     "metadata": {},
     "output_type": "execute_result"
    }
   ],
   "source": [
    "results = retriever.get_relevant_documents(\n",
    "    \"пространство проблем пространство решений\"\n",
    ")\n",
    "\n",
    "results"
   ]
  },
  {
   "cell_type": "markdown",
   "metadata": {},
   "source": [
    "## Агент"
   ]
  },
  {
   "cell_type": "code",
   "execution_count": 21,
   "metadata": {},
   "outputs": [],
   "source": [
    "# without memory\n",
    "\n",
    "from langchain.schema import StrOutputParser\n",
    "from langchain_core.prompts import ChatPromptTemplate\n",
    "from langchain_core.runnables import RunnablePassthrough\n",
    "from langchain.vectorstores import FAISS\n",
    "\n",
    "# Создаём простой шаблон\n",
    "template = \"\"\"\n",
    "Answer the question based only on the following context and point out pages. \n",
    "If there is not information in context, answer 'I don't know'.\n",
    "\n",
    "\n",
    "{context}\n",
    "\n",
    "Question: {question}\n",
    "\"\"\"\n",
    "# Создаём промпт из шаблона\n",
    "prompt = ChatPromptTemplate.from_template(template)\n",
    "\n",
    "db = FAISS.load_local('../data/faiss_db', embeddings=embeddings, allow_dangerous_deserialization=True)\n",
    "retriever = db.as_retriever(\n",
    "    search_type=\"similarity\",\n",
    ")\n",
    "\n",
    "\n",
    "# Объявляем функцию, которая будет собирать строку из полученных документов\n",
    "def format_docs(docs):\n",
    "    context = \"\\n\\n\".join([d.page_content for d in docs])\n",
    "    pages = ','.join(sorted(str(d.metadata['page']) for d in docs))\n",
    "    return f\"{context}\\n\\nPages: {pages}\"\n",
    "\n",
    "\n",
    "# Создаём цепочку\n",
    "chain = (\n",
    "    {\"context\": retriever | format_docs, \"question\": RunnablePassthrough()}\n",
    "    | prompt\n",
    "    | openai_llm\n",
    "    | StrOutputParser()\n",
    ")\n",
    "\n"
   ]
  },
  {
   "cell_type": "code",
   "execution_count": 22,
   "metadata": {},
   "outputs": [
    {
     "name": "stdout",
     "output_type": "stream",
     "text": [
      "('Пространство проблем (problem space) определяется вопросами \"Что?\" и '\n",
      " '\"Почему?\", часто с использованием цепочек таких вопросов. Это этап, на '\n",
      " 'котором важно понять, какую проблему необходимо решить, прежде чем '\n",
      " 'переходить к поиску решений. В контексте обсуждаются методы, такие как \"Пять '\n",
      " 'Почему\", которые помогают углубиться в корень проблемы. Примеры вопросов, '\n",
      " 'которые могут задаваться в пространстве проблем, включают: \"Почему нам нужно '\n",
      " 'построить решение?\", \"Какую проблему оно решает?\", \"Почему возникает эта '\n",
      " 'проблема?\" и т.д. \\n'\n",
      " '\\n'\n",
      " 'Ключевой момент заключается в том, что необходимо найти и четко '\n",
      " 'сформулировать проблему, которую ваше решение должно решить, прежде чем '\n",
      " 'переходить к этапу решения. Пропуск этого шага может привести к серьезным '\n",
      " 'проблемам на более поздних стадиях проекта. \\n'\n",
      " '\\n'\n",
      " 'Таким образом, пространство проблем всегда предшествует пространству '\n",
      " 'решений, и важно, чтобы инженеры также участвовали в анализе пространства '\n",
      " 'проблем, так как понимание проблемы существенно влияет на конечный '\n",
      " 'результат. (Страницы: 19, 20, 22)')\n"
     ]
    }
   ],
   "source": [
    "pprint(chain.invoke(\"Что такое пространство проблем расскажи подробнее\"))"
   ]
  },
  {
   "cell_type": "code",
   "execution_count": null,
   "metadata": {},
   "outputs": [],
   "source": []
  }
 ],
 "metadata": {
  "kernelspec": {
   "display_name": "Python 3",
   "language": "python",
   "name": "python3"
  },
  "language_info": {
   "codemirror_mode": {
    "name": "ipython",
    "version": 3
   },
   "file_extension": ".py",
   "mimetype": "text/x-python",
   "name": "python",
   "nbconvert_exporter": "python",
   "pygments_lexer": "ipython3",
   "version": "3.12.8"
  }
 },
 "nbformat": 4,
 "nbformat_minor": 2
}
